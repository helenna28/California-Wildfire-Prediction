{
 "cells": [
  {
   "cell_type": "code",
   "execution_count": 1,
   "id": "78d0e828",
   "metadata": {
    "ExecuteTime": {
     "end_time": "2022-07-23T03:01:13.024496Z",
     "start_time": "2022-07-23T03:01:08.968740Z"
    }
   },
   "outputs": [],
   "source": [
    "import pandas as pd\n",
    "import numpy as np\n",
    "import matplotlib.pyplot as plt\n",
    "import seaborn as sns\n",
    "%matplotlib inline\n",
    "\n",
    "import warnings\n",
    "warnings.filterwarnings('ignore')\n",
    "pd.options.display.max_columns=999"
   ]
  },
  {
   "cell_type": "code",
   "execution_count": 17,
   "id": "79799bfc",
   "metadata": {
    "ExecuteTime": {
     "end_time": "2022-07-23T03:15:12.597385Z",
     "start_time": "2022-07-23T03:15:12.311506Z"
    }
   },
   "outputs": [],
   "source": [
    "df = pd.read_csv('all_conditions.csv', parse_dates=['Date'])"
   ]
  },
  {
   "cell_type": "code",
   "execution_count": 18,
   "id": "f34a6bd3",
   "metadata": {
    "ExecuteTime": {
     "end_time": "2022-07-23T03:15:13.454743Z",
     "start_time": "2022-07-23T03:15:13.420314Z"
    }
   },
   "outputs": [
    {
     "data": {
      "text/html": [
       "<div>\n",
       "<style scoped>\n",
       "    .dataframe tbody tr th:only-of-type {\n",
       "        vertical-align: middle;\n",
       "    }\n",
       "\n",
       "    .dataframe tbody tr th {\n",
       "        vertical-align: top;\n",
       "    }\n",
       "\n",
       "    .dataframe thead th {\n",
       "        text-align: right;\n",
       "    }\n",
       "</style>\n",
       "<table border=\"1\" class=\"dataframe\">\n",
       "  <thead>\n",
       "    <tr style=\"text-align: right;\">\n",
       "      <th></th>\n",
       "      <th>Stn Id</th>\n",
       "      <th>Stn Name</th>\n",
       "      <th>CIMIS Region</th>\n",
       "      <th>Date</th>\n",
       "      <th>ETo (in)</th>\n",
       "      <th>Precip (in)</th>\n",
       "      <th>Sol Rad (Ly/day)</th>\n",
       "      <th>Avg Vap Pres (mBars)</th>\n",
       "      <th>Max Air Temp (F)</th>\n",
       "      <th>Min Air Temp (F)</th>\n",
       "      <th>Avg Air Temp (F)</th>\n",
       "      <th>Max Rel Hum (%)</th>\n",
       "      <th>Min Rel Hum (%)</th>\n",
       "      <th>Avg Rel Hum (%)</th>\n",
       "      <th>Dew Point (F)</th>\n",
       "      <th>Avg Wind Speed (mph)</th>\n",
       "      <th>Wind Run (miles)</th>\n",
       "      <th>Avg Soil Temp (F)</th>\n",
       "      <th>Target</th>\n",
       "    </tr>\n",
       "  </thead>\n",
       "  <tbody>\n",
       "    <tr>\n",
       "      <th>0</th>\n",
       "      <td>2</td>\n",
       "      <td>FivePoints</td>\n",
       "      <td>San Joaquin Valley</td>\n",
       "      <td>2018-01-01</td>\n",
       "      <td>0.06</td>\n",
       "      <td>0.00</td>\n",
       "      <td>219.0</td>\n",
       "      <td>7.3</td>\n",
       "      <td>63.4</td>\n",
       "      <td>35.3</td>\n",
       "      <td>47.8</td>\n",
       "      <td>82.0</td>\n",
       "      <td>46.0</td>\n",
       "      <td>65.0</td>\n",
       "      <td>36.6</td>\n",
       "      <td>3.3</td>\n",
       "      <td>78.3</td>\n",
       "      <td>51.1</td>\n",
       "      <td>0</td>\n",
       "    </tr>\n",
       "    <tr>\n",
       "      <th>1</th>\n",
       "      <td>2</td>\n",
       "      <td>FivePoints</td>\n",
       "      <td>San Joaquin Valley</td>\n",
       "      <td>2018-01-02</td>\n",
       "      <td>0.04</td>\n",
       "      <td>0.00</td>\n",
       "      <td>127.0</td>\n",
       "      <td>7.4</td>\n",
       "      <td>59.8</td>\n",
       "      <td>37.7</td>\n",
       "      <td>47.2</td>\n",
       "      <td>80.0</td>\n",
       "      <td>52.0</td>\n",
       "      <td>67.0</td>\n",
       "      <td>36.7</td>\n",
       "      <td>3.1</td>\n",
       "      <td>74.5</td>\n",
       "      <td>51.3</td>\n",
       "      <td>0</td>\n",
       "    </tr>\n",
       "    <tr>\n",
       "      <th>2</th>\n",
       "      <td>2</td>\n",
       "      <td>FivePoints</td>\n",
       "      <td>San Joaquin Valley</td>\n",
       "      <td>2018-01-03</td>\n",
       "      <td>0.04</td>\n",
       "      <td>0.00</td>\n",
       "      <td>125.0</td>\n",
       "      <td>8.4</td>\n",
       "      <td>61.1</td>\n",
       "      <td>37.3</td>\n",
       "      <td>49.9</td>\n",
       "      <td>79.0</td>\n",
       "      <td>49.0</td>\n",
       "      <td>68.0</td>\n",
       "      <td>39.9</td>\n",
       "      <td>4.5</td>\n",
       "      <td>107.5</td>\n",
       "      <td>51.3</td>\n",
       "      <td>0</td>\n",
       "    </tr>\n",
       "    <tr>\n",
       "      <th>3</th>\n",
       "      <td>2</td>\n",
       "      <td>FivePoints</td>\n",
       "      <td>San Joaquin Valley</td>\n",
       "      <td>2018-01-04</td>\n",
       "      <td>0.07</td>\n",
       "      <td>0.01</td>\n",
       "      <td>219.0</td>\n",
       "      <td>11.6</td>\n",
       "      <td>69.2</td>\n",
       "      <td>48.7</td>\n",
       "      <td>56.8</td>\n",
       "      <td>94.0</td>\n",
       "      <td>52.0</td>\n",
       "      <td>74.0</td>\n",
       "      <td>48.5</td>\n",
       "      <td>5.8</td>\n",
       "      <td>140.2</td>\n",
       "      <td>53.0</td>\n",
       "      <td>0</td>\n",
       "    </tr>\n",
       "    <tr>\n",
       "      <th>4</th>\n",
       "      <td>2</td>\n",
       "      <td>FivePoints</td>\n",
       "      <td>San Joaquin Valley</td>\n",
       "      <td>2018-01-05</td>\n",
       "      <td>0.07</td>\n",
       "      <td>0.00</td>\n",
       "      <td>239.0</td>\n",
       "      <td>12.7</td>\n",
       "      <td>73.8</td>\n",
       "      <td>47.5</td>\n",
       "      <td>59.8</td>\n",
       "      <td>94.0</td>\n",
       "      <td>49.0</td>\n",
       "      <td>72.0</td>\n",
       "      <td>50.8</td>\n",
       "      <td>4.2</td>\n",
       "      <td>101.4</td>\n",
       "      <td>54.4</td>\n",
       "      <td>0</td>\n",
       "    </tr>\n",
       "  </tbody>\n",
       "</table>\n",
       "</div>"
      ],
      "text/plain": [
       "   Stn Id    Stn Name        CIMIS Region       Date  ETo (in)  Precip (in)  \\\n",
       "0       2  FivePoints  San Joaquin Valley 2018-01-01      0.06         0.00   \n",
       "1       2  FivePoints  San Joaquin Valley 2018-01-02      0.04         0.00   \n",
       "2       2  FivePoints  San Joaquin Valley 2018-01-03      0.04         0.00   \n",
       "3       2  FivePoints  San Joaquin Valley 2018-01-04      0.07         0.01   \n",
       "4       2  FivePoints  San Joaquin Valley 2018-01-05      0.07         0.00   \n",
       "\n",
       "   Sol Rad (Ly/day)  Avg Vap Pres (mBars)  Max Air Temp (F)  Min Air Temp (F)  \\\n",
       "0             219.0                   7.3              63.4              35.3   \n",
       "1             127.0                   7.4              59.8              37.7   \n",
       "2             125.0                   8.4              61.1              37.3   \n",
       "3             219.0                  11.6              69.2              48.7   \n",
       "4             239.0                  12.7              73.8              47.5   \n",
       "\n",
       "   Avg Air Temp (F)  Max Rel Hum (%)  Min Rel Hum (%)  Avg Rel Hum (%)  \\\n",
       "0              47.8             82.0             46.0             65.0   \n",
       "1              47.2             80.0             52.0             67.0   \n",
       "2              49.9             79.0             49.0             68.0   \n",
       "3              56.8             94.0             52.0             74.0   \n",
       "4              59.8             94.0             49.0             72.0   \n",
       "\n",
       "   Dew Point (F)  Avg Wind Speed (mph)  Wind Run (miles)  Avg Soil Temp (F)  \\\n",
       "0           36.6                   3.3              78.3               51.1   \n",
       "1           36.7                   3.1              74.5               51.3   \n",
       "2           39.9                   4.5             107.5               51.3   \n",
       "3           48.5                   5.8             140.2               53.0   \n",
       "4           50.8                   4.2             101.4               54.4   \n",
       "\n",
       "   Target  \n",
       "0       0  \n",
       "1       0  \n",
       "2       0  \n",
       "3       0  \n",
       "4       0  "
      ]
     },
     "execution_count": 18,
     "metadata": {},
     "output_type": "execute_result"
    }
   ],
   "source": [
    "df.head()"
   ]
  },
  {
   "cell_type": "code",
   "execution_count": 19,
   "id": "2df61341",
   "metadata": {
    "ExecuteTime": {
     "end_time": "2022-07-23T03:15:13.962234Z",
     "start_time": "2022-07-23T03:15:13.933939Z"
    }
   },
   "outputs": [
    {
     "data": {
      "text/plain": [
       "<bound method DataFrame.info of         Stn Id    Stn Name        CIMIS Region       Date  ETo (in)  \\\n",
       "0            2  FivePoints  San Joaquin Valley 2018-01-01      0.06   \n",
       "1            2  FivePoints  San Joaquin Valley 2018-01-02      0.04   \n",
       "2            2  FivePoints  San Joaquin Valley 2018-01-03      0.04   \n",
       "3            2  FivePoints  San Joaquin Valley 2018-01-04      0.07   \n",
       "4            2  FivePoints  San Joaquin Valley 2018-01-05      0.07   \n",
       "...        ...         ...                 ...        ...       ...   \n",
       "128120     262      Linden  San Joaquin Valley 2020-09-14      0.14   \n",
       "128121     262      Linden  San Joaquin Valley 2020-09-15      0.15   \n",
       "128122     262      Linden  San Joaquin Valley 2020-09-16      0.15   \n",
       "128123     262      Linden  San Joaquin Valley 2020-09-17      0.16   \n",
       "128124     262      Linden  San Joaquin Valley 2020-09-18      0.14   \n",
       "\n",
       "        Precip (in)  Sol Rad (Ly/day)  Avg Vap Pres (mBars)  Max Air Temp (F)  \\\n",
       "0              0.00             219.0                   7.3              63.4   \n",
       "1              0.00             127.0                   7.4              59.8   \n",
       "2              0.00             125.0                   8.4              61.1   \n",
       "3              0.01             219.0                  11.6              69.2   \n",
       "4              0.00             239.0                  12.7              73.8   \n",
       "...             ...               ...                   ...               ...   \n",
       "128120         0.00             420.0                  15.4              84.3   \n",
       "128121         0.00             430.0                  15.1              86.8   \n",
       "128122         0.00             445.0                  16.2              89.0   \n",
       "128123         0.00             447.0                  16.6              88.1   \n",
       "128124         0.00             395.0                  16.1              81.6   \n",
       "\n",
       "        Min Air Temp (F)  Avg Air Temp (F)  Max Rel Hum (%)  Min Rel Hum (%)  \\\n",
       "0                   35.3              47.8             82.0             46.0   \n",
       "1                   37.7              47.2             80.0             52.0   \n",
       "2                   37.3              49.9             79.0             49.0   \n",
       "3                   48.7              56.8             94.0             52.0   \n",
       "4                   47.5              59.8             94.0             49.0   \n",
       "...                  ...               ...              ...              ...   \n",
       "128120              53.7              66.3             95.0             39.0   \n",
       "128121              49.6              66.0             96.0             31.0   \n",
       "128122              53.6              68.0             97.0             30.0   \n",
       "128123              53.3              70.4             97.0             35.0   \n",
       "128124              54.7              68.4             95.0             36.0   \n",
       "\n",
       "        Avg Rel Hum (%)  Dew Point (F)  Avg Wind Speed (mph)  \\\n",
       "0                  65.0           36.6                   3.3   \n",
       "1                  67.0           36.7                   3.1   \n",
       "2                  68.0           39.9                   4.5   \n",
       "3                  74.0           48.5                   5.8   \n",
       "4                  72.0           50.8                   4.2   \n",
       "...                 ...            ...                   ...   \n",
       "128120             70.0           56.2                   3.4   \n",
       "128121             69.0           55.7                   2.7   \n",
       "128122             69.0           57.6                   3.3   \n",
       "128123             65.0           58.3                   3.3   \n",
       "128124             68.0           57.4                   4.0   \n",
       "\n",
       "        Wind Run (miles)  Avg Soil Temp (F)  Target  \n",
       "0                   78.3               51.1       0  \n",
       "1                   74.5               51.3       0  \n",
       "2                  107.5               51.3       0  \n",
       "3                  140.2               53.0       0  \n",
       "4                  101.4               54.4       0  \n",
       "...                  ...                ...     ...  \n",
       "128120              81.7               69.4       1  \n",
       "128121              64.2               69.0       1  \n",
       "128122              78.2               69.0       1  \n",
       "128123              78.1               69.5       1  \n",
       "128124              96.7               70.5       1  \n",
       "\n",
       "[128125 rows x 19 columns]>"
      ]
     },
     "execution_count": 19,
     "metadata": {},
     "output_type": "execute_result"
    }
   ],
   "source": [
    "df.info"
   ]
  },
  {
   "cell_type": "code",
   "execution_count": 20,
   "id": "f38b36f7",
   "metadata": {
    "ExecuteTime": {
     "end_time": "2022-07-23T03:15:15.017437Z",
     "start_time": "2022-07-23T03:15:14.976696Z"
    }
   },
   "outputs": [
    {
     "data": {
      "text/plain": [
       "Stn Id                   0\n",
       "Stn Name                 0\n",
       "CIMIS Region             0\n",
       "Date                     0\n",
       "ETo (in)                83\n",
       "Precip (in)              0\n",
       "Sol Rad (Ly/day)         0\n",
       "Avg Vap Pres (mBars)     0\n",
       "Max Air Temp (F)         3\n",
       "Min Air Temp (F)         1\n",
       "Avg Air Temp (F)         5\n",
       "Max Rel Hum (%)          0\n",
       "Min Rel Hum (%)          0\n",
       "Avg Rel Hum (%)         13\n",
       "Dew Point (F)           13\n",
       "Avg Wind Speed (mph)     0\n",
       "Wind Run (miles)         0\n",
       "Avg Soil Temp (F)       20\n",
       "Target                   0\n",
       "dtype: int64"
      ]
     },
     "execution_count": 20,
     "metadata": {},
     "output_type": "execute_result"
    }
   ],
   "source": [
    "df.isnull().sum()"
   ]
  },
  {
   "cell_type": "code",
   "execution_count": 21,
   "id": "744cbb9c",
   "metadata": {
    "ExecuteTime": {
     "end_time": "2022-07-23T03:15:15.667154Z",
     "start_time": "2022-07-23T03:15:15.648904Z"
    }
   },
   "outputs": [
    {
     "data": {
      "text/plain": [
       "array([0, 1], dtype=int64)"
      ]
     },
     "execution_count": 21,
     "metadata": {},
     "output_type": "execute_result"
    }
   ],
   "source": [
    "df['Target'].unique()"
   ]
  },
  {
   "cell_type": "code",
   "execution_count": 22,
   "id": "883701f9",
   "metadata": {
    "ExecuteTime": {
     "end_time": "2022-07-23T03:15:16.206550Z",
     "start_time": "2022-07-23T03:15:16.197868Z"
    }
   },
   "outputs": [
    {
     "name": "stdout",
     "output_type": "stream",
     "text": [
      "Null percentage of Average Temperature feature: 0.06%\n"
     ]
    }
   ],
   "source": [
    "print(f\"Null percentage of Average Temperature feature: {((df['ETo (in)'].isnull().sum())/(len(df))*100).round(2)}%\")"
   ]
  },
  {
   "cell_type": "code",
   "execution_count": 23,
   "id": "100b1857",
   "metadata": {
    "ExecuteTime": {
     "end_time": "2022-07-23T03:15:16.823558Z",
     "start_time": "2022-07-23T03:15:16.765778Z"
    }
   },
   "outputs": [],
   "source": [
    "df.dropna(inplace=True)"
   ]
  },
  {
   "cell_type": "code",
   "execution_count": 25,
   "id": "8cc3564c",
   "metadata": {
    "ExecuteTime": {
     "end_time": "2022-07-23T03:15:57.793668Z",
     "start_time": "2022-07-23T03:15:57.755944Z"
    }
   },
   "outputs": [
    {
     "name": "stdout",
     "output_type": "stream",
     "text": [
      "<class 'pandas.core.frame.DataFrame'>\n",
      "Int64Index: 128009 entries, 0 to 128124\n",
      "Data columns (total 19 columns):\n",
      " #   Column                Non-Null Count   Dtype         \n",
      "---  ------                --------------   -----         \n",
      " 0   Stn Id                128009 non-null  int64         \n",
      " 1   Stn Name              128009 non-null  object        \n",
      " 2   CIMIS Region          128009 non-null  object        \n",
      " 3   Date                  128009 non-null  datetime64[ns]\n",
      " 4   ETo (in)              128009 non-null  float64       \n",
      " 5   Precip (in)           128009 non-null  float64       \n",
      " 6   Sol Rad (Ly/day)      128009 non-null  float64       \n",
      " 7   Avg Vap Pres (mBars)  128009 non-null  float64       \n",
      " 8   Max Air Temp (F)      128009 non-null  float64       \n",
      " 9   Min Air Temp (F)      128009 non-null  float64       \n",
      " 10  Avg Air Temp (F)      128009 non-null  float64       \n",
      " 11  Max Rel Hum (%)       128009 non-null  float64       \n",
      " 12  Min Rel Hum (%)       128009 non-null  float64       \n",
      " 13  Avg Rel Hum (%)       128009 non-null  float64       \n",
      " 14  Dew Point (F)         128009 non-null  float64       \n",
      " 15  Avg Wind Speed (mph)  128009 non-null  float64       \n",
      " 16  Wind Run (miles)      128009 non-null  float64       \n",
      " 17  Avg Soil Temp (F)     128009 non-null  float64       \n",
      " 18  Target                128009 non-null  int64         \n",
      "dtypes: datetime64[ns](1), float64(14), int64(2), object(2)\n",
      "memory usage: 19.5+ MB\n"
     ]
    }
   ],
   "source": [
    "df.info()"
   ]
  },
  {
   "cell_type": "markdown",
   "id": "5ae1aba9",
   "metadata": {},
   "source": [
    "# Understanding Dataset"
   ]
  },
  {
   "cell_type": "markdown",
   "id": "8981b544",
   "metadata": {},
   "source": [
    "Data source: https://www.kaggle.com/chelseazaloumis/cimis-dataset-with-fire-target\n",
    "\n",
    "Context Explore an environmental conditions dataframe scrapped from CIMIS (California Irrigation Management Information System) weather stations using a selenium chromedriver. With California's wildfires setting records in 2020, it is worthwhile to explore factors that may contribute to creating at risk environments.\n",
    "\n",
    "Acknowledgements CIMIS: https://cimis.water.ca.gov/Default.aspx\n",
    "\n",
    "Column on dataset:\n",
    "\n",
    "1. Station Id: California weather station IDs\n",
    "2. Station Name: California weather station names\n",
    "3. CIMIS region: Regions in California State\n",
    "4. Date: recorded date\n",
    "5. ETo (in): Evapotranspiration; is the process whereby liquid water is converted to water vapour (vaporization) and removed from the evaporating surface (vapour removal) (http://www.fao.org/3/x0490e/x0490e04.htm). Water evaporates from a variety of surfaces, such as lakes, rivers, pavements, soils, and wet vegetation. Evapotranspiration unit in inch\n",
    "6. Precip (m): Precipitation; is water released from clouds in the form of rain, freezing rain, sleet, snow, or hail. Most precipitation falls as rain (USGS gov: https://www.usgs.gov/special-topic/water-science-school/science/precipitation-and-water-cycle?qt-science_center_objects=0#qt-science_center_objects). Precipitation unit in meter.\n",
    "7. Sol Rad (Ly/day): Solar Radiation; is the heat and light and other radiation given off by the sun (Book, 2002. Source: https://www.sciencedirect.com/topics/chemistry/solar-radiation)\n",
    "8. Avg Vap Pres (mBars): Average Vapor Pressure; defined as the pressure exerted by a vapor that is in thermodynamic equilibrium with the condensed phase (solid or liquid) at a given temperature in a closed system (2019, Speight. Source: https://www.sciencedirect.com/topics/earth-and-planetary-sciences/vapour-pressure.\n",
    "9. Max Air Temp, Min Air Tem, Avg Air Temperature: Maximum, minimum, and average air temperature, units in Fahrenheit.\n",
    "10. Max Rel Hum, Min Rel Hum, Avg Rel Hum: Maximum, minimum, and average relative humidity, units in %%.\n",
    "11. Dew Point (F); is the temperature to which a parcel of moist air must be cooled at constant atmospheric pressure and constant water vapor content in order for saturation to occur (2019, Camuffo. Source: https://www.sciencedirect.com/topics/earth-and-planetary-sciences/dew-point).\n",
    "12. Avg Wind Speed (mph): Average wind speed, unit in miles per hour\n",
    "13. Wind Run (miles): a meteorological term used to categorize or determine the total distance (or amount) of the travelled wind over a period of time. The readings are collected using an anemometer. Wind run can help to determine the rate of evaporation of moisture over a particular area.\n",
    "14. Avg Soil Temp (F): Average Soil Temperature; the measurement of the warmth in soil.\n",
    "15. Target: Target column, whether there is wildfires happen (1) or not (0)."
   ]
  },
  {
   "cell_type": "markdown",
   "id": "5c93c95e",
   "metadata": {},
   "source": [
    "# Project Goals:\n",
    "\n",
    "1. Determine key factors that may contribute on California's wildfires causes.\n",
    "2. Create machine learning model to predict probability of Wildfire based on input factors."
   ]
  },
  {
   "cell_type": "code",
   "execution_count": 26,
   "id": "7598ee85",
   "metadata": {
    "ExecuteTime": {
     "end_time": "2022-07-23T03:38:52.184241Z",
     "start_time": "2022-07-23T03:38:51.961087Z"
    }
   },
   "outputs": [],
   "source": [
    "desc = []\n",
    "\n",
    "for i in df.columns:\n",
    "    desc.append([\n",
    "        i,\n",
    "        df[i].dtypes,\n",
    "        df[i].isnull().sum(),\n",
    "        round((((df[i].isnull().sum())/(len(df)))*100), 2),\n",
    "        df[i].nunique(),\n",
    "        df[i].drop_duplicates().sample(2).values\n",
    "    ])"
   ]
  },
  {
   "cell_type": "code",
   "execution_count": 27,
   "id": "f96e2c72",
   "metadata": {
    "ExecuteTime": {
     "end_time": "2022-07-23T03:38:57.395771Z",
     "start_time": "2022-07-23T03:38:57.362909Z"
    }
   },
   "outputs": [
    {
     "data": {
      "text/html": [
       "<div>\n",
       "<style scoped>\n",
       "    .dataframe tbody tr th:only-of-type {\n",
       "        vertical-align: middle;\n",
       "    }\n",
       "\n",
       "    .dataframe tbody tr th {\n",
       "        vertical-align: top;\n",
       "    }\n",
       "\n",
       "    .dataframe thead th {\n",
       "        text-align: right;\n",
       "    }\n",
       "</style>\n",
       "<table border=\"1\" class=\"dataframe\">\n",
       "  <thead>\n",
       "    <tr style=\"text-align: right;\">\n",
       "      <th></th>\n",
       "      <th>dataFeatures</th>\n",
       "      <th>dataType</th>\n",
       "      <th>null</th>\n",
       "      <th>nullPercentage</th>\n",
       "      <th>unique</th>\n",
       "      <th>uniqueSample</th>\n",
       "    </tr>\n",
       "  </thead>\n",
       "  <tbody>\n",
       "    <tr>\n",
       "      <th>0</th>\n",
       "      <td>Stn Id</td>\n",
       "      <td>int64</td>\n",
       "      <td>0</td>\n",
       "      <td>0.0</td>\n",
       "      <td>143</td>\n",
       "      <td>[214, 171]</td>\n",
       "    </tr>\n",
       "    <tr>\n",
       "      <th>1</th>\n",
       "      <td>Stn Name</td>\n",
       "      <td>object</td>\n",
       "      <td>0</td>\n",
       "      <td>0.0</td>\n",
       "      <td>143</td>\n",
       "      <td>[Victorville, Pajaro]</td>\n",
       "    </tr>\n",
       "    <tr>\n",
       "      <th>2</th>\n",
       "      <td>CIMIS Region</td>\n",
       "      <td>object</td>\n",
       "      <td>0</td>\n",
       "      <td>0.0</td>\n",
       "      <td>14</td>\n",
       "      <td>[Eastern Sierra Basin &amp; Range, Imperial/Coache...</td>\n",
       "    </tr>\n",
       "    <tr>\n",
       "      <th>3</th>\n",
       "      <td>Date</td>\n",
       "      <td>datetime64[ns]</td>\n",
       "      <td>0</td>\n",
       "      <td>0.0</td>\n",
       "      <td>991</td>\n",
       "      <td>[2020-05-13T00:00:00.000000000, 2019-03-23T00:...</td>\n",
       "    </tr>\n",
       "    <tr>\n",
       "      <th>4</th>\n",
       "      <td>ETo (in)</td>\n",
       "      <td>float64</td>\n",
       "      <td>0</td>\n",
       "      <td>0.0</td>\n",
       "      <td>50</td>\n",
       "      <td>[0.28, 0.03]</td>\n",
       "    </tr>\n",
       "    <tr>\n",
       "      <th>5</th>\n",
       "      <td>Precip (in)</td>\n",
       "      <td>float64</td>\n",
       "      <td>0</td>\n",
       "      <td>0.0</td>\n",
       "      <td>312</td>\n",
       "      <td>[3.41, 1.4]</td>\n",
       "    </tr>\n",
       "    <tr>\n",
       "      <th>6</th>\n",
       "      <td>Sol Rad (Ly/day)</td>\n",
       "      <td>float64</td>\n",
       "      <td>0</td>\n",
       "      <td>0.0</td>\n",
       "      <td>976</td>\n",
       "      <td>[564.0, 25.0]</td>\n",
       "    </tr>\n",
       "    <tr>\n",
       "      <th>7</th>\n",
       "      <td>Avg Vap Pres (mBars)</td>\n",
       "      <td>float64</td>\n",
       "      <td>0</td>\n",
       "      <td>0.0</td>\n",
       "      <td>332</td>\n",
       "      <td>[16.2, 7.4]</td>\n",
       "    </tr>\n",
       "    <tr>\n",
       "      <th>8</th>\n",
       "      <td>Max Air Temp (F)</td>\n",
       "      <td>float64</td>\n",
       "      <td>0</td>\n",
       "      <td>0.0</td>\n",
       "      <td>921</td>\n",
       "      <td>[72.0, 57.4]</td>\n",
       "    </tr>\n",
       "    <tr>\n",
       "      <th>9</th>\n",
       "      <td>Min Air Temp (F)</td>\n",
       "      <td>float64</td>\n",
       "      <td>0</td>\n",
       "      <td>0.0</td>\n",
       "      <td>884</td>\n",
       "      <td>[67.4, 23.4]</td>\n",
       "    </tr>\n",
       "    <tr>\n",
       "      <th>10</th>\n",
       "      <td>Avg Air Temp (F)</td>\n",
       "      <td>float64</td>\n",
       "      <td>0</td>\n",
       "      <td>0.0</td>\n",
       "      <td>850</td>\n",
       "      <td>[32.2, 17.8]</td>\n",
       "    </tr>\n",
       "    <tr>\n",
       "      <th>11</th>\n",
       "      <td>Max Rel Hum (%)</td>\n",
       "      <td>float64</td>\n",
       "      <td>0</td>\n",
       "      <td>0.0</td>\n",
       "      <td>101</td>\n",
       "      <td>[82.0, 22.0]</td>\n",
       "    </tr>\n",
       "    <tr>\n",
       "      <th>12</th>\n",
       "      <td>Min Rel Hum (%)</td>\n",
       "      <td>float64</td>\n",
       "      <td>0</td>\n",
       "      <td>0.0</td>\n",
       "      <td>101</td>\n",
       "      <td>[31.0, 8.0]</td>\n",
       "    </tr>\n",
       "    <tr>\n",
       "      <th>13</th>\n",
       "      <td>Avg Rel Hum (%)</td>\n",
       "      <td>float64</td>\n",
       "      <td>0</td>\n",
       "      <td>0.0</td>\n",
       "      <td>101</td>\n",
       "      <td>[90.0, 47.0]</td>\n",
       "    </tr>\n",
       "    <tr>\n",
       "      <th>14</th>\n",
       "      <td>Dew Point (F)</td>\n",
       "      <td>float64</td>\n",
       "      <td>0</td>\n",
       "      <td>0.0</td>\n",
       "      <td>857</td>\n",
       "      <td>[52.2, 39.3]</td>\n",
       "    </tr>\n",
       "    <tr>\n",
       "      <th>15</th>\n",
       "      <td>Avg Wind Speed (mph)</td>\n",
       "      <td>float64</td>\n",
       "      <td>0</td>\n",
       "      <td>0.0</td>\n",
       "      <td>195</td>\n",
       "      <td>[15.0, 17.3]</td>\n",
       "    </tr>\n",
       "    <tr>\n",
       "      <th>16</th>\n",
       "      <td>Wind Run (miles)</td>\n",
       "      <td>float64</td>\n",
       "      <td>0</td>\n",
       "      <td>0.0</td>\n",
       "      <td>3307</td>\n",
       "      <td>[64.4, 69.8]</td>\n",
       "    </tr>\n",
       "    <tr>\n",
       "      <th>17</th>\n",
       "      <td>Avg Soil Temp (F)</td>\n",
       "      <td>float64</td>\n",
       "      <td>0</td>\n",
       "      <td>0.0</td>\n",
       "      <td>648</td>\n",
       "      <td>[57.1, 95.8]</td>\n",
       "    </tr>\n",
       "    <tr>\n",
       "      <th>18</th>\n",
       "      <td>Target</td>\n",
       "      <td>int64</td>\n",
       "      <td>0</td>\n",
       "      <td>0.0</td>\n",
       "      <td>2</td>\n",
       "      <td>[0, 1]</td>\n",
       "    </tr>\n",
       "  </tbody>\n",
       "</table>\n",
       "</div>"
      ],
      "text/plain": [
       "            dataFeatures        dataType  null  nullPercentage  unique  \\\n",
       "0                 Stn Id           int64     0             0.0     143   \n",
       "1               Stn Name          object     0             0.0     143   \n",
       "2           CIMIS Region          object     0             0.0      14   \n",
       "3                   Date  datetime64[ns]     0             0.0     991   \n",
       "4               ETo (in)         float64     0             0.0      50   \n",
       "5            Precip (in)         float64     0             0.0     312   \n",
       "6       Sol Rad (Ly/day)         float64     0             0.0     976   \n",
       "7   Avg Vap Pres (mBars)         float64     0             0.0     332   \n",
       "8       Max Air Temp (F)         float64     0             0.0     921   \n",
       "9       Min Air Temp (F)         float64     0             0.0     884   \n",
       "10      Avg Air Temp (F)         float64     0             0.0     850   \n",
       "11       Max Rel Hum (%)         float64     0             0.0     101   \n",
       "12       Min Rel Hum (%)         float64     0             0.0     101   \n",
       "13       Avg Rel Hum (%)         float64     0             0.0     101   \n",
       "14         Dew Point (F)         float64     0             0.0     857   \n",
       "15  Avg Wind Speed (mph)         float64     0             0.0     195   \n",
       "16      Wind Run (miles)         float64     0             0.0    3307   \n",
       "17     Avg Soil Temp (F)         float64     0             0.0     648   \n",
       "18                Target           int64     0             0.0       2   \n",
       "\n",
       "                                         uniqueSample  \n",
       "0                                          [214, 171]  \n",
       "1                               [Victorville, Pajaro]  \n",
       "2   [Eastern Sierra Basin & Range, Imperial/Coache...  \n",
       "3   [2020-05-13T00:00:00.000000000, 2019-03-23T00:...  \n",
       "4                                        [0.28, 0.03]  \n",
       "5                                         [3.41, 1.4]  \n",
       "6                                       [564.0, 25.0]  \n",
       "7                                         [16.2, 7.4]  \n",
       "8                                        [72.0, 57.4]  \n",
       "9                                        [67.4, 23.4]  \n",
       "10                                       [32.2, 17.8]  \n",
       "11                                       [82.0, 22.0]  \n",
       "12                                        [31.0, 8.0]  \n",
       "13                                       [90.0, 47.0]  \n",
       "14                                       [52.2, 39.3]  \n",
       "15                                       [15.0, 17.3]  \n",
       "16                                       [64.4, 69.8]  \n",
       "17                                       [57.1, 95.8]  \n",
       "18                                             [0, 1]  "
      ]
     },
     "execution_count": 27,
     "metadata": {},
     "output_type": "execute_result"
    }
   ],
   "source": [
    "dfDesc = pd.DataFrame(desc, columns=['dataFeatures', 'dataType', 'null', 'nullPercentage', 'unique', 'uniqueSample'])\n",
    "dfDesc"
   ]
  },
  {
   "cell_type": "markdown",
   "id": "1290a423",
   "metadata": {},
   "source": [
    "# *There is no more null data"
   ]
  },
  {
   "cell_type": "code",
   "execution_count": 28,
   "id": "90d9058a",
   "metadata": {
    "ExecuteTime": {
     "end_time": "2022-07-23T03:39:44.429779Z",
     "start_time": "2022-07-23T03:39:44.158653Z"
    }
   },
   "outputs": [
    {
     "data": {
      "image/png": "[encoded data removed]",
      "text/plain": [
       "<Figure size 504x288 with 1 Axes>"
      ]
     },
     "metadata": {
      "needs_background": "light"
     },
     "output_type": "display_data"
    }
   ],
   "source": [
    "# check whether data in column target is balanced or not\n",
    "\n",
    "plt.figure(figsize=(7, 4))\n",
    "sns.countplot(x='Target', data=df)\n",
    "plt.show()"
   ]
  },
  {
   "cell_type": "markdown",
   "id": "bb292536",
   "metadata": {},
   "source": [
    "# Data is imbalanced\n",
    "Handling imbalanced data will be treated with Oversampling method (Machine Learning model building)"
   ]
  },
  {
   "cell_type": "code",
   "execution_count": 29,
   "id": "c7e43666",
   "metadata": {
    "ExecuteTime": {
     "end_time": "2022-07-23T03:40:19.052227Z",
     "start_time": "2022-07-23T03:40:19.024789Z"
    }
   },
   "outputs": [
    {
     "data": {
      "text/plain": [
       "0    122681\n",
       "1      5328\n",
       "Name: Target, dtype: int64"
      ]
     },
     "execution_count": 29,
     "metadata": {},
     "output_type": "execute_result"
    }
   ],
   "source": [
    "df['Target'].value_counts()"
   ]
  },
  {
   "cell_type": "code",
   "execution_count": 30,
   "id": "4df27ab2",
   "metadata": {
    "ExecuteTime": {
     "end_time": "2022-07-23T03:41:26.752197Z",
     "start_time": "2022-07-23T03:41:26.701792Z"
    }
   },
   "outputs": [],
   "source": [
    "df['Month'] = df['Date'].dt.month\n",
    "df['Year'] = df['Date'].dt.year\n",
    "df['date'] = df['Date'].dt.day"
   ]
  },
  {
   "cell_type": "code",
   "execution_count": 31,
   "id": "c86e864a",
   "metadata": {
    "ExecuteTime": {
     "end_time": "2022-07-23T03:41:50.517896Z",
     "start_time": "2022-07-23T03:41:50.473801Z"
    }
   },
   "outputs": [],
   "source": [
    "df.drop(columns=['Date'], inplace=True)"
   ]
  },
  {
   "cell_type": "code",
   "execution_count": 32,
   "id": "fd3cbc4e",
   "metadata": {
    "ExecuteTime": {
     "end_time": "2022-07-23T03:41:59.484377Z",
     "start_time": "2022-07-23T03:41:57.094711Z"
    }
   },
   "outputs": [
    {
     "data": {
      "image/png": "[encoded data removed]",
      "text/plain": [
       "<Figure size 1440x1080 with 2 Axes>"
      ]
     },
     "metadata": {
      "needs_background": "light"
     },
     "output_type": "display_data"
    }
   ],
   "source": [
    "# Finding out factors related to California's Wildfires\n",
    "\n",
    "plt.figure(figsize=(20, 15))\n",
    "sns.heatmap(df.corr(), annot=True)\n",
    "\n",
    "\n",
    "plt.xticks(rotation = 90)\n",
    "plt.show()"
   ]
  },
  {
   "cell_type": "markdown",
   "id": "7f5e2bc0",
   "metadata": {},
   "source": [
    "From the figure above, it can be seen that features having correlation score higher farthest from 0 (indicates having correlation with target column) are features:\n",
    "\n",
    "- Avg Vap Pres: 0.12\n",
    "- Air temperatures; min, max, and average: 0.17, 0.4, 0.16\n",
    "- Avg Soil temp: 0.16\n",
    "- Month: 0.14\n",
    "- Year: 0.17\n",
    "\n",
    "Suspected factors that are correlated with wildfire are some kind related to temperature, such as air and solid temperatures. That being said, wildfire occurances can be predicted related to Season/Month. Hot/Summer season might likely to have higher potential in wildfire occurrences than cold/wet season."
   ]
  },
  {
   "cell_type": "markdown",
   "id": "b4d55f53",
   "metadata": {
    "ExecuteTime": {
     "end_time": "2022-07-23T03:43:28.904029Z",
     "start_time": "2022-07-23T03:43:28.895617Z"
    }
   },
   "source": [
    "# Machine Learning"
   ]
  },
  {
   "cell_type": "code",
   "execution_count": 34,
   "id": "0cc3182e",
   "metadata": {
    "ExecuteTime": {
     "end_time": "2022-07-23T03:43:38.428642Z",
     "start_time": "2022-07-23T03:43:38.394517Z"
    }
   },
   "outputs": [
    {
     "data": {
      "text/html": [
       "<div>\n",
       "<style scoped>\n",
       "    .dataframe tbody tr th:only-of-type {\n",
       "        vertical-align: middle;\n",
       "    }\n",
       "\n",
       "    .dataframe tbody tr th {\n",
       "        vertical-align: top;\n",
       "    }\n",
       "\n",
       "    .dataframe thead th {\n",
       "        text-align: right;\n",
       "    }\n",
       "</style>\n",
       "<table border=\"1\" class=\"dataframe\">\n",
       "  <thead>\n",
       "    <tr style=\"text-align: right;\">\n",
       "      <th></th>\n",
       "      <th>Stn Id</th>\n",
       "      <th>Stn Name</th>\n",
       "      <th>CIMIS Region</th>\n",
       "      <th>ETo (in)</th>\n",
       "      <th>Precip (in)</th>\n",
       "      <th>Sol Rad (Ly/day)</th>\n",
       "      <th>Avg Vap Pres (mBars)</th>\n",
       "      <th>Max Air Temp (F)</th>\n",
       "      <th>Min Air Temp (F)</th>\n",
       "      <th>Avg Air Temp (F)</th>\n",
       "      <th>Max Rel Hum (%)</th>\n",
       "      <th>Min Rel Hum (%)</th>\n",
       "      <th>Avg Rel Hum (%)</th>\n",
       "      <th>Dew Point (F)</th>\n",
       "      <th>Avg Wind Speed (mph)</th>\n",
       "      <th>Wind Run (miles)</th>\n",
       "      <th>Avg Soil Temp (F)</th>\n",
       "      <th>Target</th>\n",
       "      <th>Month</th>\n",
       "      <th>Year</th>\n",
       "      <th>date</th>\n",
       "    </tr>\n",
       "  </thead>\n",
       "  <tbody>\n",
       "    <tr>\n",
       "      <th>0</th>\n",
       "      <td>2</td>\n",
       "      <td>FivePoints</td>\n",
       "      <td>San Joaquin Valley</td>\n",
       "      <td>0.06</td>\n",
       "      <td>0.00</td>\n",
       "      <td>219.0</td>\n",
       "      <td>7.3</td>\n",
       "      <td>63.4</td>\n",
       "      <td>35.3</td>\n",
       "      <td>47.8</td>\n",
       "      <td>82.0</td>\n",
       "      <td>46.0</td>\n",
       "      <td>65.0</td>\n",
       "      <td>36.6</td>\n",
       "      <td>3.3</td>\n",
       "      <td>78.3</td>\n",
       "      <td>51.1</td>\n",
       "      <td>0</td>\n",
       "      <td>1</td>\n",
       "      <td>2018</td>\n",
       "      <td>1</td>\n",
       "    </tr>\n",
       "    <tr>\n",
       "      <th>1</th>\n",
       "      <td>2</td>\n",
       "      <td>FivePoints</td>\n",
       "      <td>San Joaquin Valley</td>\n",
       "      <td>0.04</td>\n",
       "      <td>0.00</td>\n",
       "      <td>127.0</td>\n",
       "      <td>7.4</td>\n",
       "      <td>59.8</td>\n",
       "      <td>37.7</td>\n",
       "      <td>47.2</td>\n",
       "      <td>80.0</td>\n",
       "      <td>52.0</td>\n",
       "      <td>67.0</td>\n",
       "      <td>36.7</td>\n",
       "      <td>3.1</td>\n",
       "      <td>74.5</td>\n",
       "      <td>51.3</td>\n",
       "      <td>0</td>\n",
       "      <td>1</td>\n",
       "      <td>2018</td>\n",
       "      <td>2</td>\n",
       "    </tr>\n",
       "    <tr>\n",
       "      <th>2</th>\n",
       "      <td>2</td>\n",
       "      <td>FivePoints</td>\n",
       "      <td>San Joaquin Valley</td>\n",
       "      <td>0.04</td>\n",
       "      <td>0.00</td>\n",
       "      <td>125.0</td>\n",
       "      <td>8.4</td>\n",
       "      <td>61.1</td>\n",
       "      <td>37.3</td>\n",
       "      <td>49.9</td>\n",
       "      <td>79.0</td>\n",
       "      <td>49.0</td>\n",
       "      <td>68.0</td>\n",
       "      <td>39.9</td>\n",
       "      <td>4.5</td>\n",
       "      <td>107.5</td>\n",
       "      <td>51.3</td>\n",
       "      <td>0</td>\n",
       "      <td>1</td>\n",
       "      <td>2018</td>\n",
       "      <td>3</td>\n",
       "    </tr>\n",
       "    <tr>\n",
       "      <th>3</th>\n",
       "      <td>2</td>\n",
       "      <td>FivePoints</td>\n",
       "      <td>San Joaquin Valley</td>\n",
       "      <td>0.07</td>\n",
       "      <td>0.01</td>\n",
       "      <td>219.0</td>\n",
       "      <td>11.6</td>\n",
       "      <td>69.2</td>\n",
       "      <td>48.7</td>\n",
       "      <td>56.8</td>\n",
       "      <td>94.0</td>\n",
       "      <td>52.0</td>\n",
       "      <td>74.0</td>\n",
       "      <td>48.5</td>\n",
       "      <td>5.8</td>\n",
       "      <td>140.2</td>\n",
       "      <td>53.0</td>\n",
       "      <td>0</td>\n",
       "      <td>1</td>\n",
       "      <td>2018</td>\n",
       "      <td>4</td>\n",
       "    </tr>\n",
       "    <tr>\n",
       "      <th>4</th>\n",
       "      <td>2</td>\n",
       "      <td>FivePoints</td>\n",
       "      <td>San Joaquin Valley</td>\n",
       "      <td>0.07</td>\n",
       "      <td>0.00</td>\n",
       "      <td>239.0</td>\n",
       "      <td>12.7</td>\n",
       "      <td>73.8</td>\n",
       "      <td>47.5</td>\n",
       "      <td>59.8</td>\n",
       "      <td>94.0</td>\n",
       "      <td>49.0</td>\n",
       "      <td>72.0</td>\n",
       "      <td>50.8</td>\n",
       "      <td>4.2</td>\n",
       "      <td>101.4</td>\n",
       "      <td>54.4</td>\n",
       "      <td>0</td>\n",
       "      <td>1</td>\n",
       "      <td>2018</td>\n",
       "      <td>5</td>\n",
       "    </tr>\n",
       "  </tbody>\n",
       "</table>\n",
       "</div>"
      ],
      "text/plain": [
       "   Stn Id    Stn Name        CIMIS Region  ETo (in)  Precip (in)  \\\n",
       "0       2  FivePoints  San Joaquin Valley      0.06         0.00   \n",
       "1       2  FivePoints  San Joaquin Valley      0.04         0.00   \n",
       "2       2  FivePoints  San Joaquin Valley      0.04         0.00   \n",
       "3       2  FivePoints  San Joaquin Valley      0.07         0.01   \n",
       "4       2  FivePoints  San Joaquin Valley      0.07         0.00   \n",
       "\n",
       "   Sol Rad (Ly/day)  Avg Vap Pres (mBars)  Max Air Temp (F)  Min Air Temp (F)  \\\n",
       "0             219.0                   7.3              63.4              35.3   \n",
       "1             127.0                   7.4              59.8              37.7   \n",
       "2             125.0                   8.4              61.1              37.3   \n",
       "3             219.0                  11.6              69.2              48.7   \n",
       "4             239.0                  12.7              73.8              47.5   \n",
       "\n",
       "   Avg Air Temp (F)  Max Rel Hum (%)  Min Rel Hum (%)  Avg Rel Hum (%)  \\\n",
       "0              47.8             82.0             46.0             65.0   \n",
       "1              47.2             80.0             52.0             67.0   \n",
       "2              49.9             79.0             49.0             68.0   \n",
       "3              56.8             94.0             52.0             74.0   \n",
       "4              59.8             94.0             49.0             72.0   \n",
       "\n",
       "   Dew Point (F)  Avg Wind Speed (mph)  Wind Run (miles)  Avg Soil Temp (F)  \\\n",
       "0           36.6                   3.3              78.3               51.1   \n",
       "1           36.7                   3.1              74.5               51.3   \n",
       "2           39.9                   4.5             107.5               51.3   \n",
       "3           48.5                   5.8             140.2               53.0   \n",
       "4           50.8                   4.2             101.4               54.4   \n",
       "\n",
       "   Target  Month  Year  date  \n",
       "0       0      1  2018     1  \n",
       "1       0      1  2018     2  \n",
       "2       0      1  2018     3  \n",
       "3       0      1  2018     4  \n",
       "4       0      1  2018     5  "
      ]
     },
     "execution_count": 34,
     "metadata": {},
     "output_type": "execute_result"
    }
   ],
   "source": [
    "df.head()"
   ]
  },
  {
   "cell_type": "code",
   "execution_count": 36,
   "id": "67e29bb7",
   "metadata": {
    "ExecuteTime": {
     "end_time": "2022-07-23T03:44:12.957678Z",
     "start_time": "2022-07-23T03:44:12.928994Z"
    }
   },
   "outputs": [],
   "source": [
    "# some features are redundant to each other, so it's possible to eliminate one.\n",
    "\n",
    "df.drop(columns=['Stn Id', 'Max Rel Hum (%)', 'Min Rel Hum (%)', 'date'], inplace=True)"
   ]
  },
  {
   "cell_type": "code",
   "execution_count": 37,
   "id": "2e917248",
   "metadata": {
    "ExecuteTime": {
     "end_time": "2022-07-23T03:44:20.947937Z",
     "start_time": "2022-07-23T03:44:20.533025Z"
    }
   },
   "outputs": [],
   "source": [
    "# import model\n",
    "from sklearn.model_selection import train_test_split"
   ]
  },
  {
   "cell_type": "code",
   "execution_count": 38,
   "id": "5d7a3835",
   "metadata": {
    "ExecuteTime": {
     "end_time": "2022-07-23T03:44:56.799310Z",
     "start_time": "2022-07-23T03:44:56.782422Z"
    }
   },
   "outputs": [],
   "source": [
    "#split data\n",
    "\n",
    "X = df.drop(columns=['Target'])\n",
    "y = df['Target']"
   ]
  },
  {
   "cell_type": "code",
   "execution_count": 39,
   "id": "2bd0d524",
   "metadata": {
    "ExecuteTime": {
     "end_time": "2022-07-23T03:45:08.874487Z",
     "start_time": "2022-07-23T03:45:08.815132Z"
    }
   },
   "outputs": [],
   "source": [
    "X_train, X_test, y_train, y_test = train_test_split(X, y, test_size=0.3, random_state=42)"
   ]
  },
  {
   "cell_type": "markdown",
   "id": "62e9c942",
   "metadata": {},
   "source": [
    "# XGBoostClassifier with Pipeline"
   ]
  },
  {
   "cell_type": "code",
   "execution_count": 40,
   "id": "301d5c74",
   "metadata": {
    "ExecuteTime": {
     "end_time": "2022-07-23T03:45:28.106464Z",
     "start_time": "2022-07-23T03:45:27.495288Z"
    }
   },
   "outputs": [],
   "source": [
    "from sklearn.pipeline import Pipeline\n",
    "from sklearn.compose import ColumnTransformer\n",
    "from sklearn.preprocessing import OneHotEncoder, StandardScaler, RobustScaler\n",
    "from xgboost import XGBClassifier"
   ]
  },
  {
   "cell_type": "code",
   "execution_count": 41,
   "id": "8a4b8166",
   "metadata": {
    "ExecuteTime": {
     "end_time": "2022-07-23T03:45:31.953876Z",
     "start_time": "2022-07-23T03:45:31.917826Z"
    }
   },
   "outputs": [
    {
     "data": {
      "text/html": [
       "<div>\n",
       "<style scoped>\n",
       "    .dataframe tbody tr th:only-of-type {\n",
       "        vertical-align: middle;\n",
       "    }\n",
       "\n",
       "    .dataframe tbody tr th {\n",
       "        vertical-align: top;\n",
       "    }\n",
       "\n",
       "    .dataframe thead th {\n",
       "        text-align: right;\n",
       "    }\n",
       "</style>\n",
       "<table border=\"1\" class=\"dataframe\">\n",
       "  <thead>\n",
       "    <tr style=\"text-align: right;\">\n",
       "      <th></th>\n",
       "      <th>Stn Name</th>\n",
       "      <th>CIMIS Region</th>\n",
       "      <th>ETo (in)</th>\n",
       "      <th>Precip (in)</th>\n",
       "      <th>Sol Rad (Ly/day)</th>\n",
       "      <th>Avg Vap Pres (mBars)</th>\n",
       "      <th>Max Air Temp (F)</th>\n",
       "      <th>Min Air Temp (F)</th>\n",
       "      <th>Avg Air Temp (F)</th>\n",
       "      <th>Avg Rel Hum (%)</th>\n",
       "      <th>Dew Point (F)</th>\n",
       "      <th>Avg Wind Speed (mph)</th>\n",
       "      <th>Wind Run (miles)</th>\n",
       "      <th>Avg Soil Temp (F)</th>\n",
       "      <th>Target</th>\n",
       "      <th>Month</th>\n",
       "      <th>Year</th>\n",
       "    </tr>\n",
       "  </thead>\n",
       "  <tbody>\n",
       "    <tr>\n",
       "      <th>0</th>\n",
       "      <td>FivePoints</td>\n",
       "      <td>San Joaquin Valley</td>\n",
       "      <td>0.06</td>\n",
       "      <td>0.00</td>\n",
       "      <td>219.0</td>\n",
       "      <td>7.3</td>\n",
       "      <td>63.4</td>\n",
       "      <td>35.3</td>\n",
       "      <td>47.8</td>\n",
       "      <td>65.0</td>\n",
       "      <td>36.6</td>\n",
       "      <td>3.3</td>\n",
       "      <td>78.3</td>\n",
       "      <td>51.1</td>\n",
       "      <td>0</td>\n",
       "      <td>1</td>\n",
       "      <td>2018</td>\n",
       "    </tr>\n",
       "    <tr>\n",
       "      <th>1</th>\n",
       "      <td>FivePoints</td>\n",
       "      <td>San Joaquin Valley</td>\n",
       "      <td>0.04</td>\n",
       "      <td>0.00</td>\n",
       "      <td>127.0</td>\n",
       "      <td>7.4</td>\n",
       "      <td>59.8</td>\n",
       "      <td>37.7</td>\n",
       "      <td>47.2</td>\n",
       "      <td>67.0</td>\n",
       "      <td>36.7</td>\n",
       "      <td>3.1</td>\n",
       "      <td>74.5</td>\n",
       "      <td>51.3</td>\n",
       "      <td>0</td>\n",
       "      <td>1</td>\n",
       "      <td>2018</td>\n",
       "    </tr>\n",
       "    <tr>\n",
       "      <th>2</th>\n",
       "      <td>FivePoints</td>\n",
       "      <td>San Joaquin Valley</td>\n",
       "      <td>0.04</td>\n",
       "      <td>0.00</td>\n",
       "      <td>125.0</td>\n",
       "      <td>8.4</td>\n",
       "      <td>61.1</td>\n",
       "      <td>37.3</td>\n",
       "      <td>49.9</td>\n",
       "      <td>68.0</td>\n",
       "      <td>39.9</td>\n",
       "      <td>4.5</td>\n",
       "      <td>107.5</td>\n",
       "      <td>51.3</td>\n",
       "      <td>0</td>\n",
       "      <td>1</td>\n",
       "      <td>2018</td>\n",
       "    </tr>\n",
       "    <tr>\n",
       "      <th>3</th>\n",
       "      <td>FivePoints</td>\n",
       "      <td>San Joaquin Valley</td>\n",
       "      <td>0.07</td>\n",
       "      <td>0.01</td>\n",
       "      <td>219.0</td>\n",
       "      <td>11.6</td>\n",
       "      <td>69.2</td>\n",
       "      <td>48.7</td>\n",
       "      <td>56.8</td>\n",
       "      <td>74.0</td>\n",
       "      <td>48.5</td>\n",
       "      <td>5.8</td>\n",
       "      <td>140.2</td>\n",
       "      <td>53.0</td>\n",
       "      <td>0</td>\n",
       "      <td>1</td>\n",
       "      <td>2018</td>\n",
       "    </tr>\n",
       "    <tr>\n",
       "      <th>4</th>\n",
       "      <td>FivePoints</td>\n",
       "      <td>San Joaquin Valley</td>\n",
       "      <td>0.07</td>\n",
       "      <td>0.00</td>\n",
       "      <td>239.0</td>\n",
       "      <td>12.7</td>\n",
       "      <td>73.8</td>\n",
       "      <td>47.5</td>\n",
       "      <td>59.8</td>\n",
       "      <td>72.0</td>\n",
       "      <td>50.8</td>\n",
       "      <td>4.2</td>\n",
       "      <td>101.4</td>\n",
       "      <td>54.4</td>\n",
       "      <td>0</td>\n",
       "      <td>1</td>\n",
       "      <td>2018</td>\n",
       "    </tr>\n",
       "  </tbody>\n",
       "</table>\n",
       "</div>"
      ],
      "text/plain": [
       "     Stn Name        CIMIS Region  ETo (in)  Precip (in)  Sol Rad (Ly/day)  \\\n",
       "0  FivePoints  San Joaquin Valley      0.06         0.00             219.0   \n",
       "1  FivePoints  San Joaquin Valley      0.04         0.00             127.0   \n",
       "2  FivePoints  San Joaquin Valley      0.04         0.00             125.0   \n",
       "3  FivePoints  San Joaquin Valley      0.07         0.01             219.0   \n",
       "4  FivePoints  San Joaquin Valley      0.07         0.00             239.0   \n",
       "\n",
       "   Avg Vap Pres (mBars)  Max Air Temp (F)  Min Air Temp (F)  Avg Air Temp (F)  \\\n",
       "0                   7.3              63.4              35.3              47.8   \n",
       "1                   7.4              59.8              37.7              47.2   \n",
       "2                   8.4              61.1              37.3              49.9   \n",
       "3                  11.6              69.2              48.7              56.8   \n",
       "4                  12.7              73.8              47.5              59.8   \n",
       "\n",
       "   Avg Rel Hum (%)  Dew Point (F)  Avg Wind Speed (mph)  Wind Run (miles)  \\\n",
       "0             65.0           36.6                   3.3              78.3   \n",
       "1             67.0           36.7                   3.1              74.5   \n",
       "2             68.0           39.9                   4.5             107.5   \n",
       "3             74.0           48.5                   5.8             140.2   \n",
       "4             72.0           50.8                   4.2             101.4   \n",
       "\n",
       "   Avg Soil Temp (F)  Target  Month  Year  \n",
       "0               51.1       0      1  2018  \n",
       "1               51.3       0      1  2018  \n",
       "2               51.3       0      1  2018  \n",
       "3               53.0       0      1  2018  \n",
       "4               54.4       0      1  2018  "
      ]
     },
     "execution_count": 41,
     "metadata": {},
     "output_type": "execute_result"
    }
   ],
   "source": [
    "df.head()"
   ]
  },
  {
   "cell_type": "code",
   "execution_count": 42,
   "id": "bd95f955",
   "metadata": {
    "ExecuteTime": {
     "end_time": "2022-07-23T03:45:39.819565Z",
     "start_time": "2022-07-23T03:45:39.803350Z"
    }
   },
   "outputs": [
    {
     "data": {
      "text/plain": [
       "Index(['Stn Name', 'CIMIS Region', 'ETo (in)', 'Precip (in)',\n",
       "       'Sol Rad (Ly/day)', 'Avg Vap Pres (mBars)', 'Max Air Temp (F)',\n",
       "       'Min Air Temp (F)', 'Avg Air Temp (F)', 'Avg Rel Hum (%)',\n",
       "       'Dew Point (F)', 'Avg Wind Speed (mph)', 'Wind Run (miles)',\n",
       "       'Avg Soil Temp (F)', 'Target', 'Month', 'Year'],\n",
       "      dtype='object')"
      ]
     },
     "execution_count": 42,
     "metadata": {},
     "output_type": "execute_result"
    }
   ],
   "source": [
    "df.keys()"
   ]
  },
  {
   "cell_type": "code",
   "execution_count": 43,
   "id": "09b4ee22",
   "metadata": {
    "ExecuteTime": {
     "end_time": "2022-07-23T03:45:46.860448Z",
     "start_time": "2022-07-23T03:45:46.836405Z"
    }
   },
   "outputs": [],
   "source": [
    "prep = ColumnTransformer([\n",
    "    ('scaled', StandardScaler(), ['ETo (in)', 'Precip (in)', 'Sol Rad (Ly/day)', 'Avg Vap Pres (mBars)', 'Max Air Temp (F)',\n",
    "       'Min Air Temp (F)', 'Avg Air Temp (F)', 'Avg Rel Hum (%)',\n",
    "       'Dew Point (F)', 'Avg Wind Speed (mph)', 'Wind Run (miles)',\n",
    "       'Avg Soil Temp (F)', 'Month', 'Year']),\n",
    "    ('encode', OneHotEncoder(), ['Stn Name', 'CIMIS Region'])\n",
    "])"
   ]
  },
  {
   "cell_type": "code",
   "execution_count": 44,
   "id": "00694b9a",
   "metadata": {
    "ExecuteTime": {
     "end_time": "2022-07-23T03:45:51.885059Z",
     "start_time": "2022-07-23T03:45:51.871791Z"
    }
   },
   "outputs": [],
   "source": [
    "model = Pipeline([\n",
    "    ('prep', prep),\n",
    "    ('algo', XGBClassifier())\n",
    "])"
   ]
  },
  {
   "cell_type": "code",
   "execution_count": 45,
   "id": "2ce9d12d",
   "metadata": {
    "ExecuteTime": {
     "end_time": "2022-07-23T03:45:58.929984Z",
     "start_time": "2022-07-23T03:45:56.488624Z"
    }
   },
   "outputs": [
    {
     "name": "stdout",
     "output_type": "stream",
     "text": [
      "[10:45:56] WARNING: C:/Users/Administrator/workspace/xgboost-win64_release_1.5.1/src/learner.cc:1115: Starting in XGBoost 1.3.0, the default evaluation metric used with the objective 'binary:logistic' was changed from 'error' to 'logloss'. Explicitly set eval_metric if you'd like to restore the old behavior.\n"
     ]
    },
    {
     "data": {
      "text/plain": [
       "Pipeline(steps=[('prep',\n",
       "                 ColumnTransformer(transformers=[('scaled', StandardScaler(),\n",
       "                                                  ['ETo (in)', 'Precip (in)',\n",
       "                                                   'Sol Rad (Ly/day)',\n",
       "                                                   'Avg Vap Pres (mBars)',\n",
       "                                                   'Max Air Temp (F)',\n",
       "                                                   'Min Air Temp (F)',\n",
       "                                                   'Avg Air Temp (F)',\n",
       "                                                   'Avg Rel Hum (%)',\n",
       "                                                   'Dew Point (F)',\n",
       "                                                   'Avg Wind Speed (mph)',\n",
       "                                                   'Wind Run (miles)',\n",
       "                                                   'Avg Soil Temp (F)', 'Month',\n",
       "                                                   'Year']),\n",
       "                                                 ('encode', OneHotEncoder(),\n",
       "                                                  ['Stn Name',\n",
       "                                                   'CIMIS Region'])])),\n",
       "                ('...\n",
       "                               gamma=0, gpu_id=-1, importance_type=None,\n",
       "                               interaction_constraints='',\n",
       "                               learning_rate=0.300000012, max_delta_step=0,\n",
       "                               max_depth=6, min_child_weight=1, missing=nan,\n",
       "                               monotone_constraints='()', n_estimators=100,\n",
       "                               n_jobs=8, num_parallel_tree=1, predictor='auto',\n",
       "                               random_state=0, reg_alpha=0, reg_lambda=1,\n",
       "                               scale_pos_weight=1, subsample=1,\n",
       "                               tree_method='exact', validate_parameters=1,\n",
       "                               verbosity=None))])"
      ]
     },
     "execution_count": 45,
     "metadata": {},
     "output_type": "execute_result"
    }
   ],
   "source": [
    "model.fit(X_train, y_train)"
   ]
  },
  {
   "cell_type": "code",
   "execution_count": 46,
   "id": "5489324a",
   "metadata": {
    "ExecuteTime": {
     "end_time": "2022-07-23T03:46:08.701244Z",
     "start_time": "2022-07-23T03:46:08.595586Z"
    }
   },
   "outputs": [],
   "source": [
    "y_pred = model.predict(X_test)"
   ]
  },
  {
   "cell_type": "markdown",
   "id": "5ec9164e",
   "metadata": {},
   "source": [
    "# Evaluation"
   ]
  },
  {
   "cell_type": "code",
   "execution_count": 47,
   "id": "f98a268b",
   "metadata": {
    "ExecuteTime": {
     "end_time": "2022-07-23T03:46:34.121069Z",
     "start_time": "2022-07-23T03:46:34.105931Z"
    }
   },
   "outputs": [],
   "source": [
    "from sklearn.metrics import confusion_matrix, classification_report, recall_score, f1_score, accuracy_score, precision_score, roc_curve"
   ]
  },
  {
   "cell_type": "code",
   "execution_count": 48,
   "id": "afa17132",
   "metadata": {
    "ExecuteTime": {
     "end_time": "2022-07-23T03:46:39.303885Z",
     "start_time": "2022-07-23T03:46:39.248531Z"
    }
   },
   "outputs": [
    {
     "name": "stdout",
     "output_type": "stream",
     "text": [
      "              precision    recall  f1-score   support\n",
      "\n",
      "           0       0.99      0.99      0.99     36815\n",
      "           1       0.87      0.80      0.84      1588\n",
      "\n",
      "    accuracy                           0.99     38403\n",
      "   macro avg       0.93      0.90      0.91     38403\n",
      "weighted avg       0.99      0.99      0.99     38403\n",
      "\n"
     ]
    }
   ],
   "source": [
    "print(classification_report(y_test, y_pred))"
   ]
  },
  {
   "cell_type": "code",
   "execution_count": 49,
   "id": "ace51fb9",
   "metadata": {
    "ExecuteTime": {
     "end_time": "2022-07-23T03:46:50.196768Z",
     "start_time": "2022-07-23T03:46:49.830370Z"
    }
   },
   "outputs": [
    {
     "data": {
      "image/png": "[encoded data removed]",
      "text/plain": [
       "<Figure size 720x432 with 2 Axes>"
      ]
     },
     "metadata": {
      "needs_background": "light"
     },
     "output_type": "display_data"
    }
   ],
   "source": [
    "cm = confusion_matrix(y_test, y_pred, labels=[1, 0])\n",
    "df = pd.DataFrame (cm,\n",
    "                  columns=['Pred 1', 'Pred 0'],\n",
    "                  index=['Act 1', 'Act 0'])\n",
    "plt.figure(figsize=(10, 6))\n",
    "# sns.heatmap(df, annot=True)\n",
    "sns.heatmap(cm/np.sum(cm), annot=True, \n",
    "            fmt='.2%')\n",
    "plt.show()"
   ]
  },
  {
   "cell_type": "markdown",
   "id": "99135ed5",
   "metadata": {},
   "source": [
    "# Conclusion"
   ]
  },
  {
   "cell_type": "markdown",
   "id": "be4e95cb",
   "metadata": {},
   "source": [
    "1. Based on the data, the primary cause of California Wildfires are natural factors related to temperatures, such as air and soil temperatures.\n",
    "2. Machine Learning model using XGBoostClassifier algorithm gives good evaluation in parameters such precision, recall, f1 score, and overall accuracy. This model can reduce the prediction of false negatif, that there is actually high potential of wildfire that predicted not."
   ]
  },
  {
   "cell_type": "code",
   "execution_count": null,
   "id": "74ce3390",
   "metadata": {},
   "outputs": [],
   "source": []
  }
 ],
 "metadata": {
  "kernelspec": {
   "display_name": "Python 3",
   "language": "python",
   "name": "python3"
  },
  "language_info": {
   "codemirror_mode": {
    "name": "ipython",
    "version": 3
   },
   "file_extension": ".py",
   "mimetype": "text/x-python",
   "name": "python",
   "nbconvert_exporter": "python",
   "pygments_lexer": "ipython3",
   "version": "3.8.8"
  }
 },
 "nbformat": 4,
 "nbformat_minor": 5
}
